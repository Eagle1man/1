{
  "nbformat": 4,
  "nbformat_minor": 0,
  "metadata": {
    "colab": {
      "provenance": []
    },
    "kernelspec": {
      "name": "python3",
      "display_name": "Python 3"
    },
    "language_info": {
      "name": "python"
    }
  },
  "cells": [
    {
      "cell_type": "code",
      "source": [
        "# Установка необходимых пакетов\n",
        "!pip install qiskit[all]~=2.0.0\n",
        "!pip install matplotlib\n",
        "!pip install qiskit-aer"
      ],
      "metadata": {
        "colab": {
          "base_uri": "https://localhost:8080/"
        },
        "id": "tWFaW0TWs92a",
        "outputId": "8bb25dbe-1bd0-48b6-a31f-af4cc4a9cf49"
      },
      "execution_count": 1,
      "outputs": [
        {
          "output_type": "stream",
          "name": "stdout",
          "text": [
            "Collecting qiskit~=2.0.0 (from qiskit[all]~=2.0.0)\n",
            "  Downloading qiskit-2.0.3-cp39-abi3-manylinux_2_17_x86_64.manylinux2014_x86_64.whl.metadata (12 kB)\n",
            "Collecting rustworkx>=0.15.0 (from qiskit~=2.0.0->qiskit[all]~=2.0.0)\n",
            "  Downloading rustworkx-0.16.0-cp39-abi3-manylinux_2_17_x86_64.manylinux2014_x86_64.whl.metadata (10 kB)\n",
            "Requirement already satisfied: numpy<3,>=1.17 in /usr/local/lib/python3.11/dist-packages (from qiskit~=2.0.0->qiskit[all]~=2.0.0) (2.0.2)\n",
            "Requirement already satisfied: scipy>=1.5 in /usr/local/lib/python3.11/dist-packages (from qiskit~=2.0.0->qiskit[all]~=2.0.0) (1.15.3)\n",
            "Requirement already satisfied: sympy>=1.3 in /usr/local/lib/python3.11/dist-packages (from qiskit~=2.0.0->qiskit[all]~=2.0.0) (1.13.1)\n",
            "Requirement already satisfied: dill>=0.3 in /usr/local/lib/python3.11/dist-packages (from qiskit~=2.0.0->qiskit[all]~=2.0.0) (0.3.7)\n",
            "Requirement already satisfied: python-dateutil>=2.8.0 in /usr/local/lib/python3.11/dist-packages (from qiskit~=2.0.0->qiskit[all]~=2.0.0) (2.9.0.post0)\n",
            "Collecting stevedore>=3.0.0 (from qiskit~=2.0.0->qiskit[all]~=2.0.0)\n",
            "  Downloading stevedore-5.4.1-py3-none-any.whl.metadata (2.3 kB)\n",
            "Requirement already satisfied: typing-extensions in /usr/local/lib/python3.11/dist-packages (from qiskit~=2.0.0->qiskit[all]~=2.0.0) (4.14.0)\n",
            "Collecting symengine<0.14,>=0.11 (from qiskit~=2.0.0->qiskit[all]~=2.0.0)\n",
            "  Downloading symengine-0.13.0-cp311-cp311-manylinux_2_17_x86_64.manylinux2014_x86_64.whl.metadata (1.2 kB)\n",
            "Requirement already satisfied: six>=1.5 in /usr/local/lib/python3.11/dist-packages (from python-dateutil>=2.8.0->qiskit~=2.0.0->qiskit[all]~=2.0.0) (1.17.0)\n",
            "Collecting pbr>=2.0.0 (from stevedore>=3.0.0->qiskit~=2.0.0->qiskit[all]~=2.0.0)\n",
            "  Downloading pbr-6.1.1-py2.py3-none-any.whl.metadata (3.4 kB)\n",
            "Requirement already satisfied: mpmath<1.4,>=1.1.0 in /usr/local/lib/python3.11/dist-packages (from sympy>=1.3->qiskit~=2.0.0->qiskit[all]~=2.0.0) (1.3.0)\n",
            "Collecting qiskit-qasm3-import>=0.1.0 (from qiskit~=2.0.0->qiskit[all]~=2.0.0)\n",
            "  Downloading qiskit_qasm3_import-0.6.0-py3-none-any.whl.metadata (7.2 kB)\n",
            "Requirement already satisfied: matplotlib>=3.3 in /usr/local/lib/python3.11/dist-packages (from qiskit~=2.0.0->qiskit[all]~=2.0.0) (3.10.0)\n",
            "Requirement already satisfied: pydot in /usr/local/lib/python3.11/dist-packages (from qiskit~=2.0.0->qiskit[all]~=2.0.0) (3.0.4)\n",
            "Requirement already satisfied: Pillow>=4.2.1 in /usr/local/lib/python3.11/dist-packages (from qiskit~=2.0.0->qiskit[all]~=2.0.0) (11.2.1)\n",
            "Collecting pylatexenc>=1.4 (from qiskit~=2.0.0->qiskit[all]~=2.0.0)\n",
            "  Downloading pylatexenc-2.10.tar.gz (162 kB)\n",
            "\u001b[2K     \u001b[90m━━━━━━━━━━━━━━━━━━━━━━━━━━━━━━━━━━━━━━━\u001b[0m \u001b[32m162.6/162.6 kB\u001b[0m \u001b[31m6.7 MB/s\u001b[0m eta \u001b[36m0:00:00\u001b[0m\n",
            "\u001b[?25h  Preparing metadata (setup.py) ... \u001b[?25l\u001b[?25hdone\n",
            "Requirement already satisfied: seaborn>=0.9.0 in /usr/local/lib/python3.11/dist-packages (from qiskit~=2.0.0->qiskit[all]~=2.0.0) (0.13.2)\n",
            "Collecting z3-solver>=4.7 (from qiskit~=2.0.0->qiskit[all]~=2.0.0)\n",
            "  Downloading z3_solver-4.15.1.0-py3-none-manylinux_2_17_x86_64.manylinux2014_x86_64.whl.metadata (602 bytes)\n",
            "Collecting python-constraint>=1.4 (from qiskit~=2.0.0->qiskit[all]~=2.0.0)\n",
            "  Downloading python-constraint-1.4.0.tar.bz2 (18 kB)\n",
            "  Preparing metadata (setup.py) ... \u001b[?25l\u001b[?25hdone\n",
            "Requirement already satisfied: contourpy>=1.0.1 in /usr/local/lib/python3.11/dist-packages (from matplotlib>=3.3->qiskit~=2.0.0->qiskit[all]~=2.0.0) (1.3.2)\n",
            "Requirement already satisfied: cycler>=0.10 in /usr/local/lib/python3.11/dist-packages (from matplotlib>=3.3->qiskit~=2.0.0->qiskit[all]~=2.0.0) (0.12.1)\n",
            "Requirement already satisfied: fonttools>=4.22.0 in /usr/local/lib/python3.11/dist-packages (from matplotlib>=3.3->qiskit~=2.0.0->qiskit[all]~=2.0.0) (4.58.2)\n",
            "Requirement already satisfied: kiwisolver>=1.3.1 in /usr/local/lib/python3.11/dist-packages (from matplotlib>=3.3->qiskit~=2.0.0->qiskit[all]~=2.0.0) (1.4.8)\n",
            "Requirement already satisfied: packaging>=20.0 in /usr/local/lib/python3.11/dist-packages (from matplotlib>=3.3->qiskit~=2.0.0->qiskit[all]~=2.0.0) (24.2)\n",
            "Requirement already satisfied: pyparsing>=2.3.1 in /usr/local/lib/python3.11/dist-packages (from matplotlib>=3.3->qiskit~=2.0.0->qiskit[all]~=2.0.0) (3.2.3)\n",
            "Requirement already satisfied: setuptools in /usr/local/lib/python3.11/dist-packages (from pbr>=2.0.0->stevedore>=3.0.0->qiskit~=2.0.0->qiskit[all]~=2.0.0) (75.2.0)\n",
            "Collecting openqasm3<2.0,>=0.4 (from openqasm3[parser]<2.0,>=0.4->qiskit-qasm3-import>=0.1.0->qiskit~=2.0.0->qiskit[all]~=2.0.0)\n",
            "  Downloading openqasm3-1.0.1-py3-none-any.whl.metadata (6.0 kB)\n",
            "Requirement already satisfied: pandas>=1.2 in /usr/local/lib/python3.11/dist-packages (from seaborn>=0.9.0->qiskit~=2.0.0->qiskit[all]~=2.0.0) (2.2.2)\n",
            "Requirement already satisfied: antlr4_python3_runtime<4.14,>=4.7 in /usr/local/lib/python3.11/dist-packages (from openqasm3[parser]<2.0,>=0.4->qiskit-qasm3-import>=0.1.0->qiskit~=2.0.0->qiskit[all]~=2.0.0) (4.9.3)\n",
            "Requirement already satisfied: pytz>=2020.1 in /usr/local/lib/python3.11/dist-packages (from pandas>=1.2->seaborn>=0.9.0->qiskit~=2.0.0->qiskit[all]~=2.0.0) (2025.2)\n",
            "Requirement already satisfied: tzdata>=2022.7 in /usr/local/lib/python3.11/dist-packages (from pandas>=1.2->seaborn>=0.9.0->qiskit~=2.0.0->qiskit[all]~=2.0.0) (2025.2)\n",
            "Downloading qiskit-2.0.3-cp39-abi3-manylinux_2_17_x86_64.manylinux2014_x86_64.whl (6.5 MB)\n",
            "\u001b[2K   \u001b[90m━━━━━━━━━━━━━━━━━━━━━━━━━━━━━━━━━━━━━━━━\u001b[0m \u001b[32m6.5/6.5 MB\u001b[0m \u001b[31m58.2 MB/s\u001b[0m eta \u001b[36m0:00:00\u001b[0m\n",
            "\u001b[?25hDownloading rustworkx-0.16.0-cp39-abi3-manylinux_2_17_x86_64.manylinux2014_x86_64.whl (2.1 MB)\n",
            "\u001b[2K   \u001b[90m━━━━━━━━━━━━━━━━━━━━━━━━━━━━━━━━━━━━━━━━\u001b[0m \u001b[32m2.1/2.1 MB\u001b[0m \u001b[31m38.4 MB/s\u001b[0m eta \u001b[36m0:00:00\u001b[0m\n",
            "\u001b[?25hDownloading stevedore-5.4.1-py3-none-any.whl (49 kB)\n",
            "\u001b[2K   \u001b[90m━━━━━━━━━━━━━━━━━━━━━━━━━━━━━━━━━━━━━━━━\u001b[0m \u001b[32m49.5/49.5 kB\u001b[0m \u001b[31m3.1 MB/s\u001b[0m eta \u001b[36m0:00:00\u001b[0m\n",
            "\u001b[?25hDownloading symengine-0.13.0-cp311-cp311-manylinux_2_17_x86_64.manylinux2014_x86_64.whl (49.7 MB)\n",
            "\u001b[2K   \u001b[90m━━━━━━━━━━━━━━━━━━━━━━━━━━━━━━━━━━━━━━━━\u001b[0m \u001b[32m49.7/49.7 MB\u001b[0m \u001b[31m14.3 MB/s\u001b[0m eta \u001b[36m0:00:00\u001b[0m\n",
            "\u001b[?25hDownloading pbr-6.1.1-py2.py3-none-any.whl (108 kB)\n",
            "\u001b[2K   \u001b[90m━━━━━━━━━━━━━━━━━━━━━━━━━━━━━━━━━━━━━━━━\u001b[0m \u001b[32m109.0/109.0 kB\u001b[0m \u001b[31m5.9 MB/s\u001b[0m eta \u001b[36m0:00:00\u001b[0m\n",
            "\u001b[?25hDownloading qiskit_qasm3_import-0.6.0-py3-none-any.whl (29 kB)\n",
            "Downloading z3_solver-4.15.1.0-py3-none-manylinux_2_17_x86_64.manylinux2014_x86_64.whl (29.5 MB)\n",
            "\u001b[2K   \u001b[90m━━━━━━━━━━━━━━━━━━━━━━━━━━━━━━━━━━━━━━━━\u001b[0m \u001b[32m29.5/29.5 MB\u001b[0m \u001b[31m13.6 MB/s\u001b[0m eta \u001b[36m0:00:00\u001b[0m\n",
            "\u001b[?25hDownloading openqasm3-1.0.1-py3-none-any.whl (541 kB)\n",
            "\u001b[2K   \u001b[90m━━━━━━━━━━━━━━━━━━━━━━━━━━━━━━━━━━━━━━━━\u001b[0m \u001b[32m541.5/541.5 kB\u001b[0m \u001b[31m21.8 MB/s\u001b[0m eta \u001b[36m0:00:00\u001b[0m\n",
            "\u001b[?25hBuilding wheels for collected packages: pylatexenc, python-constraint\n",
            "  Building wheel for pylatexenc (setup.py) ... \u001b[?25l\u001b[?25hdone\n",
            "  Created wheel for pylatexenc: filename=pylatexenc-2.10-py3-none-any.whl size=136817 sha256=1d7337c015cb2c271370da1a2820a625e6533c82a0cc156d558b22ebfe29bef8\n",
            "  Stored in directory: /root/.cache/pip/wheels/b1/7a/33/9fdd892f784ed4afda62b685ae3703adf4c91aa0f524c28f03\n",
            "  Building wheel for python-constraint (setup.py) ... \u001b[?25l\u001b[?25hdone\n",
            "  Created wheel for python-constraint: filename=python_constraint-1.4.0-py2.py3-none-any.whl size=24061 sha256=13a8f4415d84585454be2346623c34229edb546385a430af6d081ba33583afe6\n",
            "  Stored in directory: /root/.cache/pip/wheels/1e/af/a9/990ae7e6a78319b7d7afaab2d14e7e5ae349d5613db5ae28fd\n",
            "Successfully built pylatexenc python-constraint\n",
            "Installing collected packages: z3-solver, python-constraint, pylatexenc, openqasm3, symengine, rustworkx, pbr, stevedore, qiskit, qiskit-qasm3-import\n",
            "Successfully installed openqasm3-1.0.1 pbr-6.1.1 pylatexenc-2.10 python-constraint-1.4.0 qiskit-2.0.3 qiskit-qasm3-import-0.6.0 rustworkx-0.16.0 stevedore-5.4.1 symengine-0.13.0 z3-solver-4.15.1.0\n",
            "Requirement already satisfied: matplotlib in /usr/local/lib/python3.11/dist-packages (3.10.0)\n",
            "Requirement already satisfied: contourpy>=1.0.1 in /usr/local/lib/python3.11/dist-packages (from matplotlib) (1.3.2)\n",
            "Requirement already satisfied: cycler>=0.10 in /usr/local/lib/python3.11/dist-packages (from matplotlib) (0.12.1)\n",
            "Requirement already satisfied: fonttools>=4.22.0 in /usr/local/lib/python3.11/dist-packages (from matplotlib) (4.58.2)\n",
            "Requirement already satisfied: kiwisolver>=1.3.1 in /usr/local/lib/python3.11/dist-packages (from matplotlib) (1.4.8)\n",
            "Requirement already satisfied: numpy>=1.23 in /usr/local/lib/python3.11/dist-packages (from matplotlib) (2.0.2)\n",
            "Requirement already satisfied: packaging>=20.0 in /usr/local/lib/python3.11/dist-packages (from matplotlib) (24.2)\n",
            "Requirement already satisfied: pillow>=8 in /usr/local/lib/python3.11/dist-packages (from matplotlib) (11.2.1)\n",
            "Requirement already satisfied: pyparsing>=2.3.1 in /usr/local/lib/python3.11/dist-packages (from matplotlib) (3.2.3)\n",
            "Requirement already satisfied: python-dateutil>=2.7 in /usr/local/lib/python3.11/dist-packages (from matplotlib) (2.9.0.post0)\n",
            "Requirement already satisfied: six>=1.5 in /usr/local/lib/python3.11/dist-packages (from python-dateutil>=2.7->matplotlib) (1.17.0)\n",
            "Collecting qiskit-aer\n",
            "  Downloading qiskit_aer-0.17.1-cp311-cp311-manylinux_2_17_x86_64.manylinux2014_x86_64.whl.metadata (8.3 kB)\n",
            "Requirement already satisfied: qiskit>=1.1.0 in /usr/local/lib/python3.11/dist-packages (from qiskit-aer) (2.0.3)\n",
            "Requirement already satisfied: numpy>=1.16.3 in /usr/local/lib/python3.11/dist-packages (from qiskit-aer) (2.0.2)\n",
            "Requirement already satisfied: scipy>=1.0 in /usr/local/lib/python3.11/dist-packages (from qiskit-aer) (1.15.3)\n",
            "Requirement already satisfied: psutil>=5 in /usr/local/lib/python3.11/dist-packages (from qiskit-aer) (5.9.5)\n",
            "Requirement already satisfied: python-dateutil>=2.8.0 in /usr/local/lib/python3.11/dist-packages (from qiskit-aer) (2.9.0.post0)\n",
            "Requirement already satisfied: six>=1.5 in /usr/local/lib/python3.11/dist-packages (from python-dateutil>=2.8.0->qiskit-aer) (1.17.0)\n",
            "Requirement already satisfied: rustworkx>=0.15.0 in /usr/local/lib/python3.11/dist-packages (from qiskit>=1.1.0->qiskit-aer) (0.16.0)\n",
            "Requirement already satisfied: sympy>=1.3 in /usr/local/lib/python3.11/dist-packages (from qiskit>=1.1.0->qiskit-aer) (1.13.1)\n",
            "Requirement already satisfied: dill>=0.3 in /usr/local/lib/python3.11/dist-packages (from qiskit>=1.1.0->qiskit-aer) (0.3.7)\n",
            "Requirement already satisfied: stevedore>=3.0.0 in /usr/local/lib/python3.11/dist-packages (from qiskit>=1.1.0->qiskit-aer) (5.4.1)\n",
            "Requirement already satisfied: typing-extensions in /usr/local/lib/python3.11/dist-packages (from qiskit>=1.1.0->qiskit-aer) (4.14.0)\n",
            "Requirement already satisfied: symengine<0.14,>=0.11 in /usr/local/lib/python3.11/dist-packages (from qiskit>=1.1.0->qiskit-aer) (0.13.0)\n",
            "Requirement already satisfied: pbr>=2.0.0 in /usr/local/lib/python3.11/dist-packages (from stevedore>=3.0.0->qiskit>=1.1.0->qiskit-aer) (6.1.1)\n",
            "Requirement already satisfied: mpmath<1.4,>=1.1.0 in /usr/local/lib/python3.11/dist-packages (from sympy>=1.3->qiskit>=1.1.0->qiskit-aer) (1.3.0)\n",
            "Requirement already satisfied: setuptools in /usr/local/lib/python3.11/dist-packages (from pbr>=2.0.0->stevedore>=3.0.0->qiskit>=1.1.0->qiskit-aer) (75.2.0)\n",
            "Downloading qiskit_aer-0.17.1-cp311-cp311-manylinux_2_17_x86_64.manylinux2014_x86_64.whl (12.4 MB)\n",
            "\u001b[2K   \u001b[90m━━━━━━━━━━━━━━━━━━━━━━━━━━━━━━━━━━━━━━━━\u001b[0m \u001b[32m12.4/12.4 MB\u001b[0m \u001b[31m75.8 MB/s\u001b[0m eta \u001b[36m0:00:00\u001b[0m\n",
            "\u001b[?25hInstalling collected packages: qiskit-aer\n",
            "Successfully installed qiskit-aer-0.17.1\n"
          ]
        }
      ]
    },
    {
      "cell_type": "code",
      "execution_count": 14,
      "metadata": {
        "colab": {
          "base_uri": "https://localhost:8080/",
          "height": 208
        },
        "id": "RZVqBrnjs63j",
        "outputId": "08a254a9-5a8a-4805-90fc-b7639ad5a1c5"
      },
      "outputs": [
        {
          "output_type": "stream",
          "name": "stdout",
          "text": [
            "Квантовая схема:\n"
          ]
        },
        {
          "output_type": "display_data",
          "data": {
            "text/plain": [
              "<Figure size 287.294x200.667 with 1 Axes>"
            ],
            "image/png": "[encoded data removed]"
          },
          "metadata": {}
        }
      ],
      "source": [
        "# Лабораторная работа: \"Hello World\" в квантовых вычислениях\n",
        "# Цель: Создание и запуск квантовой программы на симуляторе, изучение базовых принципов Qiskit\n",
        "\n",
        "# Импорт необходимых библиотек\n",
        "from qiskit import QuantumCircuit,transpile\n",
        "from qiskit_aer import Aer\n",
        "from qiskit.visualization import plot_histogram\n",
        "from qiskit.quantum_info import SparsePauliOp\n",
        "import matplotlib.pyplot as plt\n",
        "\n",
        "# ----------------------------\n",
        "# Часть 1: Создание квантовой схемы\n",
        "# ----------------------------\n",
        "\n",
        "# Создание схемы с двумя кубитами\n",
        "qc = QuantumCircuit(2)\n",
        "\n",
        "# Добавление операторов\n",
        "qc.h(0)          # Применение гейта Адамара к 0-му кубиту\n",
        "qc.cx(0, 1)      # Управляемый NOT (NOT)\n",
        "\n",
        "# Визуализация схемы\n",
        "print(\"Квантовая схема:\")\n",
        "display(qc.draw('mpl'))\n",
        "\n",
        "# ----------------------------\n",
        "# Часть 2: Подготовка наблюдаемых\n",
        "# ----------------------------\n",
        "\n",
        "# Создание списка наблюдаемых (Pauli-операторы)\n",
        "observables_labels = [\"IZ\", \"IX\", \"ZI\", \"XI\", \"ZZ\", \"XX\"]\n",
        "observables = [SparsePauliOp(label) for label in observables_labels]\n"
      ]
    },
    {
      "cell_type": "code",
      "source": [
        "# Часть 3: Запуск на симуляторе (исправлено)\n",
        "\n",
        "\n",
        "simulator = Aer.get_backend('aer_simulator')\n",
        "transpiled_circuit = transpile(qc, simulator)\n",
        "\n",
        "# Запускаем схему ОДИН раз с измерением обоих кубитов\n",
        "circuit_with_meas = transpiled_circuit.copy()\n",
        "circuit_with_meas.measure_all()  # Измеряем оба кубита\n",
        "job = simulator.run(circuit_with_meas, shots=5000)\n",
        "result = job.result()\n",
        "counts = result.get_counts()\n",
        "\n",
        "# Пересчет expectation values для всех наблюдаемых\n",
        "\n",
        "results = []\n",
        "for obs_label in observables_labels:\n",
        "    expectation = 0\n",
        "    for state, count in counts.items():\n",
        "        # Состояние в битах: '00', '01' и т.д. (q1 q0 в Qiskit)\n",
        "        q1 = int(state[0])  # Первый символ = q1\n",
        "        q0 = int(state[1])  # Второй символ = q0\n",
        "\n",
        "        # Вычисляем значение для каждого оператора Паули\n",
        "        value = 1\n",
        "        for i, pauli in enumerate(obs_label):\n",
        "            qubit = 1 - i  # Порядок обратный: \"IZ\" -> Z на q0 (второй кубит)\n",
        "            bit = q1 if qubit == 1 else q0\n",
        "            if pauli == 'Z':\n",
        "                # Для Z: +1 если |0〉, -1 если |1〉\n",
        "                value *= 1 if bit == 0 else -1\n",
        "            elif pauli == 'X':\n",
        "\n",
        "                value *= 1 if bit == 0 else -1\n",
        "        expectation += value * count\n",
        "\n",
        "    expectation /= 5000\n",
        "    results.append(expectation)\n",
        "\n",
        "# ----------------------------\n",
        "# Часть 4: Визуализация (без изменений)\n",
        "\n",
        "# Построение графика\n",
        "plt.figure(figsize = (10, 5))\n",
        "plt.plot(observables_labels, results, 'o-', color='blue')\n",
        "plt.title('Ожидаемые значения наблюдаемых')\n",
        "plt.xlabel('Операторы Паули')\n",
        "plt.ylabel('Значение')\n",
        "plt.grid(True)\n",
        "plt.show()\n",
        "\n",
        "# ----------------------------\n",
        "# Анализ результатов\n",
        "# ----------------------------\n",
        "print(\"\"\"\n",
        "Анализ:\n",
        "- Наблюдаемые ZZ и XX показывают значения близкие к 1, что подтверждает запутанность кубитов.\n",
        "- Одиночные операторы (IZ, IX и др.) демонстрируют значения около 0, что соответствует теории.\n",
        "\"\"\")"
      ],
      "metadata": {
        "colab": {
          "base_uri": "https://localhost:8080/",
          "height": 574
        },
        "id": "p-MCLgPSC1Kz",
        "outputId": "ac8c6c72-33b2-41e3-8a51-491c8dfcdfe0"
      },
      "execution_count": 15,
      "outputs": [
        {
          "output_type": "display_data",
          "data": {
            "text/plain": [
              "<Figure size 1000x500 with 1 Axes>"
            ],
            "image/png": "[encoded data removed]"
          },
          "metadata": {}
        },
        {
          "output_type": "stream",
          "name": "stdout",
          "text": [
            "\n",
            "Анализ:\n",
            "- Наблюдаемые ZZ и XX показывают значения близкие к 1, что подтверждает запутанность кубитов.\n",
            "- Одиночные операторы (IZ, IX и др.) демонстрируют значения около 0, что соответствует теории.\n",
            "\n"
          ]
        }
      ]
    }
  ]
}